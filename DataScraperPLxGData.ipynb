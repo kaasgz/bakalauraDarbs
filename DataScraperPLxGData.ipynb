{
  "nbformat": 4,
  "nbformat_minor": 0,
  "metadata": {
    "colab": {
      "provenance": []
    },
    "kernelspec": {
      "name": "python3",
      "display_name": "Python 3"
    },
    "language_info": {
      "name": "python"
    }
  },
  "cells": [
    {
      "cell_type": "markdown",
      "source": [
        "Datu iegūšana\n",
        "\n",
        "\n"
      ],
      "metadata": {
        "id": "KFc3HTC-lUNb"
      }
    },
    {
      "cell_type": "code",
      "source": [
        "import pandas as pd\n",
        "import time\n",
        "\n",
        "# URL vārdnīca ar sezonām un to saiti uz attiecīgo FBref lapu\n",
        "urls = {\n",
        "    \"2020-2021\": \"https://fbref.com/en/comps/9/2020-2021/schedule/2020-2021-Premier-League-Scores-and-Fixtures\",\n",
        "    \"2021-2022\": \"https://fbref.com/en/comps/9/2021-2022/schedule/2021-2022-Premier-League-Scores-and-Fixtures\",\n",
        "    \"2022-2023\": \"https://fbref.com/en/comps/9/2022-2023/schedule/2022-2023-Premier-League-Scores-and-Fixtures\",\n",
        "    \"2023-2024\": \"https://fbref.com/en/comps/9/2023-2024/schedule/2023-2024-Premier-League-Scores-and-Fixtures\",\n",
        "    \"2024-2025\": \"https://fbref.com/en/comps/9/schedule/Premier-League-Scores-and-Fixtures\"\n",
        "}\n",
        "\n",
        "# Saraksts, kur glabāsim DataFrame ar katras sezonas datiem\n",
        "all_seasons_data = []\n",
        "\n",
        "# Datums pēc kura spēles netiks ņemtas vērā\n",
        "cutoff_date = pd.to_datetime(\"2025-05-24\")\n",
        "\n",
        "# Apstrādājam katru sezonu pēc kārtas\n",
        "for season, url in urls.items():\n",
        "    print(f\"Apstrādā sezonas {season} datus...\")\n",
        "    try:\n",
        "        # Nolasām visas tabulas no norādītā URL\n",
        "        tables = pd.read_html(url)\n",
        "\n",
        "        # Parasti pirmajā tabulā ir nepieciešamie dati\n",
        "        df = tables[0]\n",
        "\n",
        "        # Pievienojam kolonu ar sezonas identifikatoru\n",
        "        df['Season'] = season\n",
        "\n",
        "        # Izmetam rindas, kur 'Wk' ir NaN (tās ir atdalītājrindas)\n",
        "        df = df[df['Wk'].notna()].copy()\n",
        "\n",
        "        # Ja ir 'Date' kolonna, pārveidojam to uz datetime un filtrējam pēc datuma\n",
        "        if 'Date' in df.columns:\n",
        "            df.loc[:, 'Date'] = pd.to_datetime(df['Date'], errors='coerce')\n",
        "            df = df[df['Date'] < cutoff_date]  # Atstāj tikai spēles pirms cutoff datuma\n",
        "\n",
        "        # Ja xG kolonnas ir ar dažādiem nosaukumiem, pārdēvējam tās\n",
        "        if 'xG' in df.columns and 'xG.1' in df.columns:\n",
        "            df = df.rename(columns={'xG': 'xG_Home', 'xG.1': 'xG_Away'})\n",
        "\n",
        "        # Izmetam nevajadzīgās kolonnas, ja tās eksistē\n",
        "        columns_to_drop = ['Match Report', 'Notes']\n",
        "        df = df.drop(columns=[col for col in columns_to_drop if col in df.columns])\n",
        "\n",
        "        # Score kolonnu, formatējam un sadalām pa mājinieku un viesu vārtiem\n",
        "        if 'Score' in df.columns:\n",
        "            df['Score'] = df['Score'].fillna('0-0').astype(str)\n",
        "            df['Score'] = df['Score'].str.replace('–', '-', regex=False)\n",
        "            df[['Home Goals', 'Away Goals']] = df['Score'].str.split('-', expand=True)\n",
        "            # Pārveidojam vārtu kolonnas uz skaitļiem\n",
        "            df['Home Goals'] = pd.to_numeric(df['Home Goals'], errors='coerce')\n",
        "            df['Away Goals'] = pd.to_numeric(df['Away Goals'], errors='coerce')\n",
        "\n",
        "        # Pievienojam apstrādāto sezonas DataFrame galvenajam sarakstam\n",
        "        all_seasons_data.append(df)\n",
        "\n",
        "        # Pieliekam pauzi, lai nesanāktu iztērēt visas servera pieprasījuma iespējas\n",
        "        time.sleep(2)\n",
        "\n",
        "    except Exception as e:\n",
        "        print(f\"Kļūda apstrādājot {season} datus: {e}\")\n",
        "\n",
        "# Ja vismaz kādi dati ir apstrādāti, apvienojam tos vienotā sarakstā\n",
        "if all_seasons_data:\n",
        "    combined_df = pd.concat(all_seasons_data, ignore_index=True)\n",
        "\n",
        "    # Pārveidojam rindu indeksus uz rindu kārtas numuriem\n",
        "    combined_df = combined_df.reset_index(drop=True)\n",
        "\n",
        "    # Saglabājam visu sezonu apvienoto CSV failā\n",
        "    combined_df.to_csv(\"Premier_League_All_Seasons_xG.csv\", index=False)\n",
        "\n",
        "    # Saglabājam katras sezonas failu atsevišķi\n",
        "    for season, df in zip(urls.keys(), all_seasons_data):\n",
        "        df.to_csv(f\"Premier_League_{season}_xG.csv\", index=False)\n",
        "\n",
        "    # Izdrukājam pirmās piecas rindiņas un rindu skaitu\n",
        "    print(\"\\nApvienoto datu priekšskats:\")\n",
        "    print(combined_df.head())\n",
        "    print(f\"\\nKopā rindu: {len(combined_df)}\")\n",
        "else:\n",
        "    print(\"Neviena sezona netika veiksmīgi apstrādāta.\")"
      ],
      "metadata": {
        "colab": {
          "base_uri": "https://localhost:8080/"
        },
        "id": "96nWXoA93XzY",
        "outputId": "603e8915-15ea-4484-b76a-51949ea2f8f8"
      },
      "execution_count": 2,
      "outputs": [
        {
          "output_type": "stream",
          "name": "stdout",
          "text": [
            "Apstrādā sezonu 2020-2021 datus...\n",
            "Apstrādā sezonu 2021-2022 datus...\n",
            "Apstrādā sezonu 2022-2023 datus...\n",
            "Apstrādā sezonu 2023-2024 datus...\n",
            "Apstrādā sezonu 2024-2025 datus...\n",
            "\n",
            "Apvienoto datu priekšskats:\n",
            "    Wk  Day                 Date   Time            Home  xG_Home Score  \\\n",
            "0  1.0  Sat  2020-09-12 00:00:00  12:30          Fulham      0.1   0-3   \n",
            "1  1.0  Sat  2020-09-12 00:00:00  15:00  Crystal Palace      1.1   1-0   \n",
            "2  1.0  Sat  2020-09-12 00:00:00  17:30       Liverpool      2.7   4-3   \n",
            "3  1.0  Sat  2020-09-12 00:00:00  20:00        West Ham      1.0   0-2   \n",
            "4  1.0  Sun  2020-09-13 00:00:00  14:00       West Brom      0.4   0-3   \n",
            "\n",
            "   xG_Away            Away  Attendance           Venue         Referee  \\\n",
            "0      1.9         Arsenal         NaN  Craven Cottage  Chris Kavanagh   \n",
            "1      0.9     Southampton         NaN   Selhurst Park   Jonathan Moss   \n",
            "2      0.3    Leeds United         NaN         Anfield  Michael Oliver   \n",
            "3      1.6   Newcastle Utd         NaN  London Stadium  Stuart Attwell   \n",
            "4      2.8  Leicester City         NaN   The Hawthorns  Anthony Taylor   \n",
            "\n",
            "      Season  Home Goals  Away Goals  \n",
            "0  2020-2021           0           3  \n",
            "1  2020-2021           1           0  \n",
            "2  2020-2021           4           3  \n",
            "3  2020-2021           0           2  \n",
            "4  2020-2021           0           3  \n",
            "\n",
            "Kopā rindu: 1890\n"
          ]
        }
      ]
    },
    {
      "cell_type": "markdown",
      "source": [
        "Dati tiek saglabāti google drive\n"
      ],
      "metadata": {
        "id": "gu8MdYblEbuZ"
      }
    },
    {
      "cell_type": "code",
      "source": [
        "# Mount Google Drive\n",
        "from google.colab import drive\n",
        "drive.mount('/content/drive')\n"
      ],
      "metadata": {
        "colab": {
          "base_uri": "https://localhost:8080/"
        },
        "id": "4Z1OnSgkD5Lf",
        "outputId": "60c66b29-bbaf-4f03-9d0f-5936c9a08b6e"
      },
      "execution_count": 3,
      "outputs": [
        {
          "output_type": "stream",
          "name": "stdout",
          "text": [
            "Mounted at /content/drive\n"
          ]
        }
      ]
    },
    {
      "cell_type": "code",
      "source": [
        "# Save to a folder in Google Drive\n",
        "combined_df.to_csv(\"/content/drive/MyDrive/bakalauraDarbs/Premier_League_All_Seasons_xG.csv\", index=False)\n"
      ],
      "metadata": {
        "id": "hgZsr-mNEHox"
      },
      "execution_count": 4,
      "outputs": []
    }
  ]
}