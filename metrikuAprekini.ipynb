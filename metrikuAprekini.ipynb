{
  "nbformat": 4,
  "nbformat_minor": 0,
  "metadata": {
    "colab": {
      "provenance": []
    },
    "kernelspec": {
      "name": "python3",
      "display_name": "Python 3"
    },
    "language_info": {
      "name": "python"
    }
  },
  "cells": [
    {
      "cell_type": "code",
      "source": [
        "# Mount Google Drive\n",
        "from google.colab import drive\n",
        "drive.mount('/content/drive')\n"
      ],
      "metadata": {
        "colab": {
          "base_uri": "https://localhost:8080/"
        },
        "id": "4QanRFJXW0UU",
        "outputId": "2ff7dbee-a4eb-49d2-8660-5dada07ec747"
      },
      "execution_count": 2,
      "outputs": [
        {
          "output_type": "stream",
          "name": "stdout",
          "text": [
            "Mounted at /content/drive\n"
          ]
        }
      ]
    },
    {
      "cell_type": "code",
      "source": [
        "import pandas as pd\n",
        "import numpy as np\n",
        "from sklearn.metrics import mean_squared_error, mean_absolute_error\n",
        "from scipy.stats import pearsonr\n",
        "\n",
        "# Ielādē datus no katra Excel sheet\n",
        "elevenify_df = pd.read_excel('/content/drive/MyDrive/bakalauraDarbs/xG_full.xlsx', sheet_name='ElevenifyPrognozes', index_col=0)\n",
        "my_predictions_df = pd.read_excel('/content/drive/MyDrive/bakalauraDarbs/xG_full.xlsx', sheet_name='AutoraPrognozes', index_col=0)\n",
        "actual_xg_df = pd.read_excel('/content/drive/MyDrive/bakalauraDarbs/xG_full.xlsx', sheet_name='FaktiskaisXG', index_col=0)\n",
        "actual_goals_df = pd.read_excel('/content/drive/MyDrive/bakalauraDarbs/xG_full.xlsx', sheet_name='FaktiskieVarti', index_col=0)\n",
        "\n",
        "# Pārliecinās, ka kolonnu nosaukumi ir string tipa\n",
        "elevenify_df.columns = elevenify_df.columns.astype(str)\n",
        "my_predictions_df.columns = my_predictions_df.columns.astype(str)\n",
        "actual_xg_df.columns = actual_xg_df.columns.astype(str)\n",
        "actual_goals_df.columns = actual_goals_df.columns.astype(str)\n",
        "\n",
        "# Inicializē tukšus sarakstus rezultātu uzkrāšanai\n",
        "rmse_elevenify = []\n",
        "mae_elevenify = []\n",
        "rmse_my = []\n",
        "mae_my = []\n",
        "pearson_corr = []\n",
        "rmse_my_vs_goals = []\n",
        "mae_my_vs_goals = []\n",
        "\n",
        "# Apstrādā katru spēļu nedēļu\n",
        "for week in range(1, 36): # Aizvadītas 35 spēļu nedēļas\n",
        "    week_str = str(week)  # Nedēļas numuru pārvērš par string, jo tādas ir sheet kolonnas\n",
        "\n",
        "    # Izvelk attiecīgās nedēļas prognozes/faktus no katra DataFrame\n",
        "    elevenify_week = elevenify_df[week_str]\n",
        "    my_predictions_week = my_predictions_df[week_str]\n",
        "    actual_xg_week = actual_xg_df[week_str]\n",
        "    actual_goals_week = actual_goals_df[week_str]\n",
        "\n",
        "    # Apvieno datus DataFrame un atstāj tikai pilnos ierakstus (bez NaN)\n",
        "    week_df = pd.DataFrame({\n",
        "        'elevenify': elevenify_week,\n",
        "        'my': my_predictions_week,\n",
        "        'xg': actual_xg_week,\n",
        "        'goals': actual_goals_week\n",
        "    }).dropna()\n",
        "\n",
        "    # Ja kārtā nav datu, pāriet pie nākamās\n",
        "    if week_df.empty:\n",
        "        continue\n",
        "\n",
        "    # Aprēķina RMSE un MAE metrikas Elevenify prognozēm pret faktiskajiem xG\n",
        "    rmse_elevenify.append(np.sqrt(mean_squared_error(week_df['xg'], week_df['elevenify'])))\n",
        "    mae_elevenify.append(mean_absolute_error(week_df['xg'], week_df['elevenify']))\n",
        "\n",
        "    # Aprēķina RMSE un MAE metrikas autora prognozēm pret xG\n",
        "    rmse_my.append(np.sqrt(mean_squared_error(week_df['xg'], week_df['my'])))\n",
        "    mae_my.append(mean_absolute_error(week_df['xg'], week_df['my']))\n",
        "\n",
        "    # Aprēķina RMSE un MAE metrikas autora prognozēm pret faktisko vārtu skaitu\n",
        "    rmse_my_vs_goals.append(np.sqrt(mean_squared_error(week_df['goals'], week_df['my'])))\n",
        "    mae_my_vs_goals.append(mean_absolute_error(week_df['goals'], week_df['my']))\n",
        "\n",
        "    # Aprēķina Pīrsona korelācijas koeficientu starp faktiskajiem xG un faktiskajiem vārtiem\n",
        "    corr, _ = pearsonr(week_df['xg'], week_df['goals'])\n",
        "    pearson_corr.append(corr)\n",
        "\n",
        "# Aprēķina vidējo vērtību katrai metrikai visām nedēļām\n",
        "avg_rmse_elevenify = np.mean(rmse_elevenify)\n",
        "avg_mae_elevenify = np.mean(mae_elevenify)\n",
        "avg_rmse_my = np.mean(rmse_my)\n",
        "avg_mae_my = np.mean(mae_my)\n",
        "avg_pearson_corr = np.mean(pearson_corr)\n",
        "avg_rmse_my_vs_goals = np.mean(rmse_my_vs_goals)\n",
        "avg_mae_my_vs_goals = np.mean(mae_my_vs_goals)\n",
        "\n",
        "# Aprēķina relatīvo atšķirību starp autora un Elevenify RMSE/MAE (procentos)\n",
        "rel_diff_rmse = (avg_rmse_my - avg_rmse_elevenify) / avg_rmse_elevenify * 100\n",
        "rel_diff_mae = (avg_mae_my - avg_mae_elevenify) / avg_mae_elevenify * 100\n",
        "\n",
        "# Izvada rezultātus\n",
        "print(f\"Vidējais Elevenify RMSE vs xG: {avg_rmse_elevenify}\")\n",
        "print(f\"Vidējais Elevenify MAE vs xG: {avg_mae_elevenify}\")\n",
        "print(f\"Vidējais Autora RMSE vs xG: {avg_rmse_my}\")\n",
        "print(f\"Vidējais Autora MAE vs xG: {avg_mae_my}\")\n",
        "print(f\"Vidējā Pearsona korelācija starp xG un gūtajiem vārtiem: {avg_pearson_corr}\")\n",
        "print(f\"Vidējais Autora RMSE vs Faktiskie vārti: {avg_rmse_my_vs_goals}\")\n",
        "print(f\"Vidējais Autora MAE vs Faktiskie vārti: {avg_mae_my_vs_goals}\")\n",
        "print(f\"Relatīvā atšķirība RMSE (Autors vs Elevenify, pret xG): {rel_diff_rmse:.2f}%\")\n",
        "print(f\"Relatīvā atšķirība MAE (Autors vs Elevenify, pret xG): {rel_diff_mae:.2f}%\")"
      ],
      "metadata": {
        "colab": {
          "base_uri": "https://localhost:8080/"
        },
        "id": "18SnxscShve1",
        "outputId": "bdc775cb-6f2b-4f9e-9b94-b0a664dad4fe"
      },
      "execution_count": 6,
      "outputs": [
        {
          "output_type": "stream",
          "name": "stdout",
          "text": [
            "Vidējais Elevenify RMSE vs xG: 0.710273740011883\n",
            "Vidējais Elevenify MAE vs xG: 0.5615952840387409\n",
            "Vidējais Autora RMSE vs xG: 0.7660179995668602\n",
            "Vidējais Autora MAE vs xG: 0.5990914361249834\n",
            "Vidējā Pearsona korelācija starp xG un gūtajiem vārtiem: 0.5690799413014354\n",
            "Vidējais Autora RMSE vs Faktiskie vārti: 1.1369758022633076\n",
            "Vidējais Autora MAE vs Faktiskie vārti: 0.892856730733599\n",
            "Relatīvā atšķirība RMSE (Autors vs Elevenify, pret xG): 7.85%\n",
            "Relatīvā atšķirība MAE (Autors vs Elevenify, pret xG): 6.68%\n"
          ]
        }
      ]
    }
  ]
}