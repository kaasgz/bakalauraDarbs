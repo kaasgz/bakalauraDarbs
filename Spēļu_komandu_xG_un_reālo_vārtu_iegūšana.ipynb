{
  "nbformat": 4,
  "nbformat_minor": 0,
  "metadata": {
    "colab": {
      "provenance": []
    },
    "kernelspec": {
      "name": "python3",
      "display_name": "Python 3"
    },
    "language_info": {
      "name": "python"
    }
  },
  "cells": [
    {
      "cell_type": "markdown",
      "source": [
        "Jāpieslēdzas google drive"
      ],
      "metadata": {
        "id": "60nO-hbA4_yX"
      }
    },
    {
      "cell_type": "code",
      "source": [
        "# Mount Google Drive\n",
        "from google.colab import drive\n",
        "drive.mount('/content/drive')"
      ],
      "metadata": {
        "colab": {
          "base_uri": "https://localhost:8080/"
        },
        "id": "6YdTmTl8hknH",
        "outputId": "1751c73b-1202-4ffc-c12d-bfb1cfb60e3c"
      },
      "execution_count": 1,
      "outputs": [
        {
          "output_type": "stream",
          "name": "stdout",
          "text": [
            "Mounted at /content/drive\n"
          ]
        }
      ]
    },
    {
      "cell_type": "markdown",
      "source": [
        "# Iegūt spēļu un nedēļu sarakstu"
      ],
      "metadata": {
        "id": "N-v8scEAdyXP"
      }
    },
    {
      "cell_type": "code",
      "source": [
        "import pandas as pd\n",
        "\n",
        "# Ielādē pilnos datus no CSV faila\n",
        "fixtures_df = pd.read_csv(\"/content/drive/MyDrive/bakalauraDarbs/Premier_League_All_Seasons_xG.csv\")\n",
        "\n",
        "# Atlasām tikai šīs sezonas (2024-2025) datus\n",
        "fixtures_2024_2025 = fixtures_df[fixtures_df[\"Season\"] == \"2024-2025\"].copy()\n",
        "\n",
        "# Izvēlamies tikai nepieciešamās kolonnas\n",
        "fixtures_summary = fixtures_df[['Wk', 'Home', 'Away']].copy()\n",
        "\n",
        "# Pārvēršam 'Wk' par veseliem skaitļiem, ja tas nav jau (jābūt piesardzīgam, ja NaN vai tukšas vērtības)\n",
        "fixtures_summary['Wk'] = fixtures_summary['Wk'].astype(int)\n",
        "\n",
        "# Izdrukājam pārbaudīt pirmās 5 rindas\n",
        "print(fixtures_summary.head())\n",
        "\n",
        "# Saglabājam CSV tikai aktuālo sezonu\n",
        "fixtures_summary.to_csv(\"/content/drive/MyDrive/bakalauraDarbs/Premier_League_Fixtures_Summary.csv\", index=False)"
      ],
      "metadata": {
        "colab": {
          "base_uri": "https://localhost:8080/"
        },
        "id": "-1NbIdl6mpZO",
        "outputId": "478bce56-3374-4612-a811-b8d8620bb783"
      },
      "execution_count": 10,
      "outputs": [
        {
          "output_type": "stream",
          "name": "stdout",
          "text": [
            "   Wk            Home            Away\n",
            "0   1          Fulham         Arsenal\n",
            "1   1  Crystal Palace     Southampton\n",
            "2   1       Liverpool    Leeds United\n",
            "3   1        West Ham   Newcastle Utd\n",
            "4   1       West Brom  Leicester City\n"
          ]
        }
      ]
    },
    {
      "cell_type": "markdown",
      "source": [
        "# Iegūt xG tabulu un gūto vārtu tabulu no nospēlētām spēlēm"
      ],
      "metadata": {
        "id": "Jmc0e3lyeARN"
      }
    },
    {
      "cell_type": "code",
      "source": [
        "import pandas as pd\n",
        "\n",
        "# Ielādē visus sezonu datus no CSV faila\n",
        "all_seasons = pd.read_csv(\"/content/drive/MyDrive/bakalauraDarbs/Premier_League_All_Seasons_xG.csv\")\n",
        "\n",
        "# Pārvērš 'Wk' kolonnu par veselajiem skaitļiem un 'Date' par datuma tipu\n",
        "all_seasons['Wk'] = all_seasons['Wk'].astype(int)\n",
        "all_seasons['Date'] = pd.to_datetime(all_seasons['Date'], errors='coerce')\n",
        "\n",
        "# Izgūst visu komandu sarakstu (kā mājas, tā viesu komandas), sakārto alfabētiski\n",
        "teams = sorted(set(all_seasons['Home']).union(set(all_seasons['Away'])))\n",
        "\n",
        "# Inicializē DataFrame xG gūto vārtu saglabāšanai katrai komandai katrā kārtā (1–38)\n",
        "xg_table = pd.DataFrame(index=teams, columns=range(1, 39))\n",
        "goals_table = pd.DataFrame(index=teams, columns=range(1, 39))\n",
        "\n",
        "# Aizpilda abas tabulas ar datiem par katras spēles rezultātu\n",
        "for _, row in all_seasons.iterrows():\n",
        "    week = row['Wk']                # Kārtas numurs (nedēļa)\n",
        "    home_team = row['Home']         # Mājas komanda\n",
        "    away_team = row['Away']         # Viesu komanda\n",
        "    xg_home = row['xG_Home']        # Mājas komandas xG\n",
        "    xg_away = row['xG_Away']        # Viesu komandas xG\n",
        "    goals_home = row['Home Goals']  # Mājas komandas gūtie vārti\n",
        "    goals_away = row['Away Goals']  # Viesu komandas gūtie vārti\n",
        "\n",
        "    # Ieraksta xG vērtības attiecīgajā kārtā mājas un viesu komandām\n",
        "    xg_table.at[home_team, week] = xg_home\n",
        "    xg_table.at[away_team, week] = xg_away\n",
        "\n",
        "    # Ieraksta gūto vārtu skaitu attiecīgajā kārtā mājas un viesu komandām\n",
        "    goals_table.at[home_team, week] = goals_home\n",
        "    goals_table.at[away_team, week] = goals_away\n",
        "\n",
        "# Saglabā iegūtos rezultātus Excel failos\n",
        "xg_table.to_excel(\"/content/drive/MyDrive/bakalauraDarbs/Premier_League_xG_Table.xlsx\")\n",
        "goals_table.to_excel(\"/content/drive/MyDrive/bakalauraDarbs/Premier_League_Goals_Table.xlsx\")"
      ],
      "metadata": {
        "id": "NRM5wx8geGUk"
      },
      "execution_count": 4,
      "outputs": []
    }
  ]
}